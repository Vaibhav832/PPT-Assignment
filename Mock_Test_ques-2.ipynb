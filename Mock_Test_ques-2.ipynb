{
 "cells": [
  {
   "attachments": {},
   "cell_type": "markdown",
   "metadata": {},
   "source": [
    "First Unique Character in a String<br>\n",
    "<br>\n",
    "Given a string s, find the first non-repeating character in it and return its index. If it does not exist, return -1.<br>\n",
    "<br>\n",
    "Example 1:<br>\n",
    "Input: s = \"leetcode\"<br>\n",
    "Output: 0<br>\n",
    "<br>\n",
    "Example 2:<br>\n",
    "Input: s = \"loveleetcode\"<br>\n",
    "Output: 2<br>\n",
    "<br>\n",
    "Example 3:<br>\n",
    "Input: s = \"aabb\"<br>\n",
    "Output: -1<br>\n",
    "<br>\n",
    "Constraints:<br>\n",
    "a. 1 <= s.length <= 10^5<br>\n",
    "b. s consists of only lowercase English letters.<br>"
   ]
  },
  {
   "cell_type": "code",
   "execution_count": 1,
   "metadata": {},
   "outputs": [],
   "source": [
    "def first_unique_character(s):\n",
    "  \"\"\"\n",
    "  Finds the first non-repeating character in the string s and returns its index.\n",
    "\n",
    "  Args:\n",
    "    s: The string to be searched.\n",
    "\n",
    "  Returns:\n",
    "    The index of the first non-repeating character, or -1 if it does not exist.\n",
    "  \"\"\"\n",
    "\n",
    "  char_counts = {}\n",
    "  for i, char in enumerate(s):\n",
    "    if char not in char_counts:\n",
    "      char_counts[char] = 0\n",
    "    char_counts[char] += 1\n",
    "\n",
    "  for i, char in enumerate(s):\n",
    "    if char_counts[char] == 1:\n",
    "      return i\n",
    "\n",
    "  return -1"
   ]
  },
  {
   "cell_type": "code",
   "execution_count": 2,
   "metadata": {},
   "outputs": [
    {
     "data": {
      "text/plain": [
       "0"
      ]
     },
     "execution_count": 2,
     "metadata": {},
     "output_type": "execute_result"
    }
   ],
   "source": [
    "first_unique_character(\"leetcode\")"
   ]
  },
  {
   "cell_type": "code",
   "execution_count": 3,
   "metadata": {},
   "outputs": [
    {
     "data": {
      "text/plain": [
       "2"
      ]
     },
     "execution_count": 3,
     "metadata": {},
     "output_type": "execute_result"
    }
   ],
   "source": [
    "first_unique_character(\"loveleetcode\")"
   ]
  },
  {
   "cell_type": "code",
   "execution_count": 4,
   "metadata": {},
   "outputs": [
    {
     "data": {
      "text/plain": [
       "-1"
      ]
     },
     "execution_count": 4,
     "metadata": {},
     "output_type": "execute_result"
    }
   ],
   "source": [
    "first_unique_character(\"aabb\")"
   ]
  },
  {
   "cell_type": "code",
   "execution_count": null,
   "metadata": {},
   "outputs": [],
   "source": []
  }
 ],
 "metadata": {
  "kernelspec": {
   "display_name": "Python 3",
   "language": "python",
   "name": "python3"
  },
  "language_info": {
   "codemirror_mode": {
    "name": "ipython",
    "version": 3
   },
   "file_extension": ".py",
   "mimetype": "text/x-python",
   "name": "python",
   "nbconvert_exporter": "python",
   "pygments_lexer": "ipython3",
   "version": "3.10.5"
  },
  "orig_nbformat": 4
 },
 "nbformat": 4,
 "nbformat_minor": 2
}
