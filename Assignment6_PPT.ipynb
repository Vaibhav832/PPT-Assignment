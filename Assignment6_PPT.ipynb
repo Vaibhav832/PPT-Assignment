{
 "cells": [
  {
   "cell_type": "code",
   "execution_count": 2,
   "id": "8a35859c",
   "metadata": {},
   "outputs": [],
   "source": [
    "#1 Reconstruct Permutaion\n",
    "\n",
    "def reconstructPermutation(s):\n",
    "    n=len(s)\n",
    "    perm=[]\n",
    "    \n",
    "    start,end=0,n\n",
    "    \n",
    "    for ch in s:\n",
    "        if ch=='I':\n",
    "            perm.append(start)\n",
    "            start+=1\n",
    "        elif ch=='D':\n",
    "            perm.append(end)\n",
    "            end-=1\n",
    "    perm.append(start)\n",
    "    \n",
    "    return perm\n",
    "            \n",
    "    "
   ]
  },
  {
   "cell_type": "code",
   "execution_count": 4,
   "id": "e7d3a208",
   "metadata": {},
   "outputs": [
    {
     "data": {
      "text/plain": [
       "[0, 4, 1, 3, 2]"
      ]
     },
     "execution_count": 4,
     "metadata": {},
     "output_type": "execute_result"
    }
   ],
   "source": [
    "reconstructPermutation('IDID')"
   ]
  },
  {
   "cell_type": "markdown",
   "id": "2fbbfa5b",
   "metadata": {},
   "source": [
    "Algorithm:\n",
    "    1. initialize an empty list perm to store the reconstructed permutation\n",
    "    2. initialize variable n to store the length of the string s\n",
    "    3. initialize two pointers start and end to 0 and n\n",
    "    4. iterate through characters in string\n",
    "        if the current character is 'I'\n",
    "        append start to perm\n",
    "        increment start by 1\n",
    "        \n",
    "        if the current character is 'D'\n",
    "        append end to perm\n",
    "        decrement end by 1\n",
    "    5. append the final value of the perm to start\n",
    "    6. return perm\n",
    "time complexity: O(n)- where n is the length of the string and we have to iterate through each character s once \n",
    "space complexity: O(n)- space required to store the reconstructed permutation which can have n+1 elements.\n",
    "    \n"
   ]
  },
  {
   "cell_type": "code",
   "execution_count": 1,
   "id": "7a790a0e",
   "metadata": {},
   "outputs": [],
   "source": [
    "#Q2 - search matrix\n",
    "def searchmatrix(matrix,target):\n",
    "    if not matrix or not matrix[0]:\n",
    "        return False\n",
    "    m,n=len(matrix), len(matrix[0])\n",
    "    start,end=0,m*n-1\n",
    "    \n",
    "    while start<=end:\n",
    "        mid=(start+end)//2\n",
    "        row,col=mid//n,mid%n\n",
    "        value=matrix[row][col]\n",
    "        \n",
    "        if target==value:\n",
    "            return True\n",
    "        elif target<value:\n",
    "            end=mid-1\n",
    "        else:\n",
    "            start=mid+1\n",
    "    return False"
   ]
  },
  {
   "cell_type": "code",
   "execution_count": 3,
   "id": "091ab4ca",
   "metadata": {},
   "outputs": [
    {
     "data": {
      "text/plain": [
       "True"
      ]
     },
     "execution_count": 3,
     "metadata": {},
     "output_type": "execute_result"
    }
   ],
   "source": [
    "searchmatrix([[1,3,5,7],[10,11,16,20],[23,30,34,60]],3)"
   ]
  },
  {
   "cell_type": "markdown",
   "id": "9c71faf2",
   "metadata": {},
   "source": [
    "Algorithm:\n",
    "    1. select two pointers start and end to first and last indices of the matrix\n",
    "    2. while start is less than or equal to end,do\n",
    "       calculate the middle index mid as (start+end)//2\n",
    "       covert mid into matrix coordinates row=mid//n and col=mid%n\n",
    "       compare the target with value at matrix[row][col]\n",
    "          if the target is equal to the value,return the value\n",
    "          if the target is less than the value, update end to mid-1\n",
    "          if the target is greater than the value, update start to mid+1\n",
    "    3. if the target is not found after the while loop, return False\n",
    "\n",
    "time complexity: O(m*n) since we are halving the search range in each iteration.\n",
    "\n",
    "       "
   ]
  },
  {
   "cell_type": "code",
   "execution_count": 4,
   "id": "faaa8c1d",
   "metadata": {},
   "outputs": [],
   "source": [
    "#Q3- Valid mountain array\n",
    "def validMountainArray(arr):\n",
    "    if len(arr)<3:\n",
    "        return False\n",
    "    i=0\n",
    "    \n",
    "    while i+1<len(arr) and arr[i]<arr[i+1]:\n",
    "        i+=1\n",
    "        \n",
    "    if i==0 or i==len(arr)-1:\n",
    "        return False\n",
    "    \n",
    "    while i+1<len(arr) and arr[i]>arr[i+1]:\n",
    "        i+=1\n",
    "    return i==len(arr)-1\n",
    "    "
   ]
  },
  {
   "cell_type": "code",
   "execution_count": 5,
   "id": "2ae0ffff",
   "metadata": {},
   "outputs": [
    {
     "data": {
      "text/plain": [
       "True"
      ]
     },
     "execution_count": 5,
     "metadata": {},
     "output_type": "execute_result"
    }
   ],
   "source": [
    "validMountainArray([0,2,3,4,5,2,1,0])"
   ]
  },
  {
   "cell_type": "code",
   "execution_count": 6,
   "id": "d5065a0d",
   "metadata": {},
   "outputs": [
    {
     "data": {
      "text/plain": [
       "False"
      ]
     },
     "execution_count": 6,
     "metadata": {},
     "output_type": "execute_result"
    }
   ],
   "source": [
    "validMountainArray([2,1])"
   ]
  },
  {
   "cell_type": "code",
   "execution_count": 7,
   "id": "1153dfe4",
   "metadata": {},
   "outputs": [
    {
     "data": {
      "text/plain": [
       "True"
      ]
     },
     "execution_count": 7,
     "metadata": {},
     "output_type": "execute_result"
    }
   ],
   "source": [
    "validMountainArray([1,3,1])"
   ]
  },
  {
   "cell_type": "markdown",
   "id": "051c99f2",
   "metadata": {},
   "source": [
    "Algorithm:\n",
    "    1. check if the length of array arr is less than 3, return false because a moutain array must have atleast \n",
    "       3 elements\n",
    "    2. initialize variable i=0, to represent the current index\n",
    "    3. while i+1 less than len(arr) and arr[i]<arr[i+1] increment i to find the peak of the mountain\n",
    "    4. if i==1 or i==len(arr)-1 return false because there is no peak \n",
    "    5. while i+1 less than len(arr) and arr[i]>arr[i+1] increment i to check the stictly decreasing part of the mountain\n",
    "    6. if i==len(arr)-1, return true becasue we have reached the end of the array in a strictly decreasing pattern, which \n",
    "       satisfies the mountain array conditions.\n",
    "    7. Otherwise, return false because the array did not meet the conditions for a mountain array.\n",
    "    \n",
    "    Time complexity: O(n)\n",
    "    Space complexity:O(1)"
   ]
  },
  {
   "cell_type": "code",
   "execution_count": 13,
   "id": "3dd32980",
   "metadata": {},
   "outputs": [],
   "source": [
    "#Q4- find max length\n",
    "\n",
    "def findMaxLength(nums):\n",
    "    count_map={0: -1}  #initialize with count 0 and index -1\n",
    "    max_length=0\n",
    "    count=0\n",
    "    \n",
    "    for i, num in enumerate(nums):\n",
    "        count+=1 if num==1 else -1\n",
    "        \n",
    "        if count in count_map:\n",
    "            subarray_length=i-count_map[count]\n",
    "            max_length=max(max_length,subarray_length)\n",
    "        else:\n",
    "            count_map[count]=i\n",
    "    return max_length\n",
    "    "
   ]
  },
  {
   "cell_type": "code",
   "execution_count": 19,
   "id": "bfe38870",
   "metadata": {},
   "outputs": [
    {
     "data": {
      "text/plain": [
       "2"
      ]
     },
     "execution_count": 19,
     "metadata": {},
     "output_type": "execute_result"
    }
   ],
   "source": [
    "findMaxLength([0,1])"
   ]
  },
  {
   "cell_type": "markdown",
   "id": "f082ec27",
   "metadata": {},
   "source": [
    "Algorithm:\n",
    "    1. initialize a variable max length to store the maxium length of the subarray and a variable count to keep\n",
    "       track of the running count (count of 1s minus count of 0s)\n",
    "    2. create an empty dictionary count map to store the running conts and their corresponding indices\n",
    "    3. iterate through the binary array nums through left to right\n",
    "    4. for each element in nunms update the count variable\n",
    "       if the element is 1, increment count by 1\n",
    "       if the element is 0, decrement count by 1\n",
    "    5. check if count is equal to 0, if it is update max_length to the current index plus 1(since the entire subarray up\n",
    "        to the current index has an equal number of 0s and 1s)\n",
    "    6. If count is already present in count_map, calculate the length of the subarray by subtracting the index stored \n",
    "        in count_map[count] from the current index. Update max_length with the maximum of the current max_length and \n",
    "        the calculated subarray length.\n",
    "    7. If count is not present in count_map, store the current index in count_map[count].\n",
    "    8. After iterating through all elements, return max_length.\n",
    "time complexity: O(n)\n",
    "space complexity:O(n)\n",
    "  "
   ]
  },
  {
   "cell_type": "code",
   "execution_count": 24,
   "id": "f4c2ddd8",
   "metadata": {},
   "outputs": [],
   "source": [
    "#Q5- Product Sum\n",
    "def minProductSum(nums1, nums2):\n",
    "    nums1.sort()\n",
    "    nums2.sort()\n",
    "    left = 0\n",
    "    right = len(nums1) - 1\n",
    "    min_product_sum = 0\n",
    "\n",
    "    while left <= right:\n",
    "        product = nums1[left] * nums2[left]\n",
    "        min_product_sum += product\n",
    "        left += 1\n",
    "        right -= 1\n",
    "\n",
    "    return min_product_sum\n"
   ]
  },
  {
   "cell_type": "code",
   "execution_count": 25,
   "id": "87f06c7f",
   "metadata": {},
   "outputs": [
    {
     "data": {
      "text/plain": [
       "14"
      ]
     },
     "execution_count": 25,
     "metadata": {},
     "output_type": "execute_result"
    }
   ],
   "source": [
    "minProductSum([5,3,4,2],[4,2,2,5])"
   ]
  },
  {
   "cell_type": "markdown",
   "id": "32f71cf8",
   "metadata": {},
   "source": [
    "Algorithm:\n",
    "    1. sort nums1 and nums2 in non-decreasing order\n",
    "    2. initialize two pointers left and right to the start and end of nums1, respectively\n",
    "    3. initialize min_product_sum to store the minimum product of sum\n",
    "    4. while left is less than or equal to right.\n",
    "       calculate the product of nums1[left] and nums2[left]\n",
    "       calculate the product of nums1[right] and nums2[right]\n",
    "       add the smaller product to min_product_sum\n",
    "       move the left pointer one step to the right\n",
    "       move the right pointer one step to the left\n",
    "    5. return min_product_sum\n",
    "time complexity: O(n log n), where n is the length of input arrays nums1,nums2. This is because the algorithm sort both\n",
    "    arrays using a comparision based sorting algorithm.\n",
    "space complexity: O(1)"
   ]
  },
  {
   "cell_type": "markdown",
   "id": "3954f1a5",
   "metadata": {},
   "source": [
    "# Q6- repetition which is alredy done in previous assignments"
   ]
  },
  {
   "cell_type": "code",
   "execution_count": 26,
   "id": "110d2e6f",
   "metadata": {},
   "outputs": [],
   "source": [
    "#Q7- Generate a Spiral Matrix\n",
    "\n",
    "def generateMatrix(n):\n",
    "    result = [[0] * n for _ in range(n)]\n",
    "    rowStart, rowEnd = 0, n - 1\n",
    "    colStart, colEnd = 0, n - 1\n",
    "    num = 1\n",
    "\n",
    "    while num <= n * n:\n",
    "        for i in range(colStart, colEnd + 1):\n",
    "            result[rowStart][i] = num\n",
    "            num += 1\n",
    "        rowStart += 1\n",
    "\n",
    "        for i in range(rowStart, rowEnd + 1):\n",
    "            result[i][colEnd] = num\n",
    "            num += 1\n",
    "        colEnd -= 1\n",
    "\n",
    "        if num > n * n:\n",
    "            break\n",
    "\n",
    "        for i in range(colEnd, colStart - 1, -1):\n",
    "            result[rowEnd][i] = num\n",
    "            num += 1\n",
    "        rowEnd -= 1\n",
    "\n",
    "        for i in range(rowEnd, rowStart - 1, -1):\n",
    "            result[i][colStart] = num\n",
    "            num += 1\n",
    "        colStart += 1\n",
    "\n",
    "    return result\n",
    "            "
   ]
  },
  {
   "cell_type": "code",
   "execution_count": 28,
   "id": "cca7e152",
   "metadata": {},
   "outputs": [
    {
     "data": {
      "text/plain": [
       "[[1, 2, 3], [8, 9, 4], [7, 6, 5]]"
      ]
     },
     "execution_count": 28,
     "metadata": {},
     "output_type": "execute_result"
    }
   ],
   "source": [
    "generateMatrix(3)"
   ]
  },
  {
   "cell_type": "markdown",
   "id": "89c5acee",
   "metadata": {},
   "source": [
    "Algorithm:\n",
    "    1. initialize the matrix result of size n*n with all elements set to 0\n",
    "    2. initialize rowStart, rowEnd, colStart,colEnd to represent the boundaries of the current spiral\n",
    "    3. initialize a variable num to 1, which represents the current element to be inserted in the matrix\n",
    "    4. use a whileloop that continues until num reaches n*2\n",
    "    5. within while loop\n",
    "       traverse the top row, from colStart to colEnd and fill the elements of the matrix with the current value of the num\n",
    "        increment num after each insertion\n",
    "       increment rowStart by 1 to exclude the top row from further traversal\n",
    "       traverse the right column from rowStart to rowEnd and fill all the elements of the matrix with the current value\n",
    "        of num, incrementing num after each insertion\n",
    "        derement colEnd by 1 to exclude the right column from further traversal\n",
    "        check if num has reached n*2. if it has, break out of the while loop\n",
    "        Traverse the bottom row, from colEnd to colStart, and fill the elements of the matrix with the current value of num, incrementing num after each insertion.\n",
    "        Decrement rowEnd by 1 to exclude the bottom row from further traversal.\n",
    "        Traverse the left column, from rowEnd to rowStart, and fill the elements of the matrix with the current value of num, incrementing num after each insertion.\n",
    "        Increment colStart by 1 to exclude the left column from further traversal.\n",
    "    6. Return the populated matrix result.\n",
    "\n",
    "    time and space complexities: O(n*2)"
   ]
  },
  {
   "cell_type": "code",
   "execution_count": 29,
   "id": "1094392b",
   "metadata": {},
   "outputs": [],
   "source": [
    "#Q8- multiplicaiton of sparse matrix\n",
    "\n",
    "def multiply(mat1, mat2):\n",
    "    m, k = len(mat1), len(mat1[0])\n",
    "    n = len(mat2[0])\n",
    "    result = [[0] * n for _ in range(m)]\n",
    "\n",
    "    for i in range(m):\n",
    "        for j in range(k):\n",
    "            if mat1[i][j] != 0:\n",
    "                for l in range(n):\n",
    "                    if mat2[j][l] != 0:\n",
    "                        result[i][l] += mat1[i][j] * mat2[j][l]\n",
    "\n",
    "    return result\n"
   ]
  },
  {
   "cell_type": "code",
   "execution_count": 30,
   "id": "2086a1d2",
   "metadata": {},
   "outputs": [
    {
     "data": {
      "text/plain": [
       "[[7, 0, 0], [7, 0, 3]]"
      ]
     },
     "execution_count": 30,
     "metadata": {},
     "output_type": "execute_result"
    }
   ],
   "source": [
    "multiply([[1,0,0],[1,0,3]],[[7,0,0],[0,0,0],[0,0,1]])"
   ]
  },
  {
   "cell_type": "markdown",
   "id": "24007305",
   "metadata": {},
   "source": [
    "Algorithm:\n",
    "    1.Create an empty result matrix result of size m x n to store the product of mat1 and mat2.\n",
    "    2. Iterate through each non-zero element in mat1 and multiply it with the corresponding non-zero elements in mat2.\n",
    "        For each non-zero element mat1[i][j] in mat1:\n",
    "        Iterate through each non-zero element in the j-th column of mat2.\n",
    "        Multiply mat1[i][j] with the corresponding non-zero element mat2[j][k] in mat2.\n",
    "        Add the result to result[i][k].\n",
    "    4. Return the resulting matrix result.\n"
   ]
  },
  {
   "cell_type": "code",
   "execution_count": null,
   "id": "a2bdd08c",
   "metadata": {},
   "outputs": [],
   "source": []
  }
 ],
 "metadata": {
  "kernelspec": {
   "display_name": "Python 3 (ipykernel)",
   "language": "python",
   "name": "python3"
  },
  "language_info": {
   "codemirror_mode": {
    "name": "ipython",
    "version": 3
   },
   "file_extension": ".py",
   "mimetype": "text/x-python",
   "name": "python",
   "nbconvert_exporter": "python",
   "pygments_lexer": "ipython3",
   "version": "3.9.13"
  }
 },
 "nbformat": 4,
 "nbformat_minor": 5
}
