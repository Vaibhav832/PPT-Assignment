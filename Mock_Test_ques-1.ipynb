{
 "cells": [
  {
   "attachments": {},
   "cell_type": "markdown",
   "metadata": {},
   "source": [
    "Move Zeroes<br>\n",
    "Given an integer array nums, move all 0's to the end of it while maintaining the relative order of the non-zero elements.<br>\n",
    "<br>\n",
    "Note that you must do this in-place without making a copy of the array.<br>\n",
    "<br>\n",
    "Example 1:<br>\n",
    "Input: nums = [0,1,0,3,12]<br>\n",
    "Output: [1,3,12,0,0]<br>\n",
    "<br>\n",
    "Example 2:<br>\n",
    "Input: nums = [0]<br>\n",
    "Output: [0]<br>\n",
    "<br>\n",
    "Constraints:<br>\n",
    "a. 1 <= nums.length <= 10^4<br>\n",
    "b. -2^31 <= nums[i] <= 2^31 - 1<br>\n"
   ]
  },
  {
   "cell_type": "code",
   "execution_count": 1,
   "metadata": {},
   "outputs": [],
   "source": [
    "def move_zeros(nums):\n",
    "  \"\"\"\n",
    "  Moves all 0's to the end of the array while maintaining the relative order of the non-zero elements.\n",
    "\n",
    "  Args:\n",
    "    nums: The array to be modified.\n",
    "\n",
    "  Returns:\n",
    "    The modified array.\n",
    "  \"\"\"\n",
    "  i = 0\n",
    "  j = 0\n",
    "  while i < len(nums):\n",
    "    if nums[i] != 0:\n",
    "      nums[j] = nums[i]\n",
    "      j += 1\n",
    "    i += 1\n",
    "\n",
    "  while j < len(nums):\n",
    "    nums[j] = 0\n",
    "    j += 1\n",
    "\n",
    "  return nums"
   ]
  },
  {
   "cell_type": "code",
   "execution_count": 2,
   "metadata": {},
   "outputs": [
    {
     "name": "stdout",
     "output_type": "stream",
     "text": [
      "Example 1:\n",
      "Input: nums = [0,1,0,3,12]\n",
      "Output:  [1, 3, 12, 0, 0]\n"
     ]
    }
   ],
   "source": [
    "print(\"Example 1:\")\n",
    "print(\"Input: nums = [0,1,0,3,12]\")\n",
    "nums = [0,1,0,3,12]\n",
    "print(\"Output: \", move_zeros(nums))"
   ]
  },
  {
   "cell_type": "code",
   "execution_count": 3,
   "metadata": {},
   "outputs": [
    {
     "name": "stdout",
     "output_type": "stream",
     "text": [
      "Example 2:\n",
      "Input: nums = [0]\n",
      "Output:  [0]\n"
     ]
    }
   ],
   "source": [
    "print(\"Example 2:\")\n",
    "print(\"Input: nums = [0]\")\n",
    "nums = [0]\n",
    "print(\"Output: \", move_zeros(nums))"
   ]
  },
  {
   "cell_type": "code",
   "execution_count": null,
   "metadata": {},
   "outputs": [],
   "source": []
  }
 ],
 "metadata": {
  "kernelspec": {
   "display_name": "Python 3",
   "language": "python",
   "name": "python3"
  },
  "language_info": {
   "codemirror_mode": {
    "name": "ipython",
    "version": 3
   },
   "file_extension": ".py",
   "mimetype": "text/x-python",
   "name": "python",
   "nbconvert_exporter": "python",
   "pygments_lexer": "ipython3",
   "version": "3.10.5"
  },
  "orig_nbformat": 4
 },
 "nbformat": 4,
 "nbformat_minor": 2
}
