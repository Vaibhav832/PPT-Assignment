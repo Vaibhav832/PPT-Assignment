{
 "cells": [
  {
   "cell_type": "markdown",
   "id": "d4a00dc4",
   "metadata": {},
   "source": [
    "Q1. Given an array of integers nums and an integer target, return indices of the two numbers such that they add up to target.\n",
    "You may assume that each input would have exactly one solution, and you may not use the same element twice.\n",
    "You can return the answer in any order.\n"
   ]
  },
  {
   "cell_type": "markdown",
   "id": "fc2ac0d8",
   "metadata": {},
   "source": [
    "Algorithm: -\n",
    "1. Initialize an empty dictionary to store the complement of each number and its index.\n",
    "2. Iterate through the array of numbers, starting from the first number.\n",
    "      a. Calculate the complement of the current number by subtracting it from the target.\n",
    "      b. Check if the complement exists in the dictionary.\n",
    "              i. If the complement exists, return the indices of the current number and its complement.\n",
    "             ii. If the complement does not exist, continue to the next step.\n",
    "      c. Add the current number and its index to the dictionary.\n",
    "3. If no solution is found, return an empty list.\n",
    "\n",
    "4. Time Complexity: O(n) where n is the length of the array\n",
    "\n",
    "5. Space Complexity: O(1)\n"
   ]
  },
  {
   "cell_type": "code",
   "execution_count": 1,
   "id": "69384d6c",
   "metadata": {},
   "outputs": [
    {
     "name": "stdout",
     "output_type": "stream",
     "text": [
      "[0, 1]\n"
     ]
    }
   ],
   "source": [
    "def twoSum(nums, target):\n",
    "    complement_dict = {}\n",
    "    for i, num in enumerate(nums):\n",
    "        complement = target - num\n",
    "        if complement in complement_dict:\n",
    "            return [complement_dict[complement], i]\n",
    "        complement_dict[num] = i\n",
    "    return []\n",
    "nums = [2, 7, 11, 15]\n",
    "target = 9\n",
    "print(twoSum(nums, target)) \n",
    "\n"
   ]
  },
  {
   "cell_type": "markdown",
   "id": "838d806d",
   "metadata": {},
   "source": [
    "Q2. Given an integer array nums and an integer val, remove all occurrences of val in nums in-place. The order of the elements may be changed. Then return the number of elements in nums which are not equal to val.\n",
    "Consider the number of elements in nums which are not equal to val be k, to get accepted, you need to do the following things:\n",
    "Change the array nums such that the first k elements of nums contain the elements which are not equal to val. The remaining elements of nums are not important as well as the size of nums.\n",
    "Return k."
   ]
  },
  {
   "cell_type": "markdown",
   "id": "34839aa6",
   "metadata": {},
   "source": [
    "1. Initialize a variable k to 0 to keep track of the count of elements not equal to val.\n",
    "2. Iterate through the array nums.\n",
    "3. If the current element is not equal to val, move it to the left side of the array by assigning it to nums[k], and increment k by 1.\n",
    "4. After iterating through the entire array, the first k elements of nums will contain the elements that are not equal to val, and the remaining elements are not important.\n",
    "5. Return the value of k.\n",
    "\n"
   ]
  },
  {
   "cell_type": "code",
   "execution_count": 2,
   "id": "9516b40d",
   "metadata": {},
   "outputs": [],
   "source": [
    "def removeElement(nums, val):\n",
    "    k = 0  # Variable to track the count of elements not equal to val\n",
    "\n",
    "    # Iterate through the array\n",
    "    for i in range(len(nums)):\n",
    "        if nums[i] != val:\n",
    "            # If the current element is not equal to val, move it to the left side of the array\n",
    "            nums[k] = nums[i]\n",
    "            k += 1\n",
    "\n",
    "    # Fill the remaining elements with underscores\n",
    "    for i in range(k, len(nums)):\n",
    "        nums[i] = '_'\n",
    "\n",
    "    return k\n"
   ]
  },
  {
   "cell_type": "code",
   "execution_count": 3,
   "id": "11d3f1d9",
   "metadata": {},
   "outputs": [
    {
     "data": {
      "text/plain": [
       "2"
      ]
     },
     "execution_count": 3,
     "metadata": {},
     "output_type": "execute_result"
    }
   ],
   "source": [
    "removeElement([3,2,2,3],3)"
   ]
  },
  {
   "cell_type": "markdown",
   "id": "70435c8f",
   "metadata": {},
   "source": [
    "Q3. Given a sorted array of distinct integers and a target value, return the index if the target is found. If not, return the index where it would be if it were inserted in order.\n",
    "You must write an algorithm with O(log n) runtime complexity.\n"
   ]
  },
  {
   "cell_type": "markdown",
   "id": "3c449d83",
   "metadata": {},
   "source": [
    "Algorithm:-\n",
    "    1. Initialize two pointers , left & right , representing the start and end of the search range in array\n",
    "    2. While left is less than or equal to right\n",
    "       a) calculate the middle index (left+right)//2\n",
    "       b) if the value at middle index is equal to the target, return the middle index\n",
    "       c) if the value at the middle index is less than the target, update left to mid+1 to search the right half of the array\n",
    "       d) if the value at the middle index is greater than the target, update right to mid-1 to search left half od the array\n",
    "        \n",
    "    3. if the target is not found in the array, return the value of left as the index where the target would be inserted\n",
    "Time Complexity: O(logn)"
   ]
  },
  {
   "cell_type": "code",
   "execution_count": 4,
   "id": "313d704b",
   "metadata": {},
   "outputs": [],
   "source": [
    "def searchInsert(nums,target):\n",
    "    left=0\n",
    "    right=len(nums)-1\n",
    "    while(left<=right):\n",
    "        mid=(left+right)//2\n",
    "        if nums[mid]==target:\n",
    "            return mid\n",
    "        elif nums[mid]<target:\n",
    "            left=mid+1\n",
    "        else:\n",
    "            right=mid-1\n",
    "    return left"
   ]
  },
  {
   "cell_type": "code",
   "execution_count": 5,
   "id": "4cd881fa",
   "metadata": {},
   "outputs": [
    {
     "data": {
      "text/plain": [
       "2"
      ]
     },
     "execution_count": 5,
     "metadata": {},
     "output_type": "execute_result"
    }
   ],
   "source": [
    "searchInsert([1,3,5,6],5)\n"
   ]
  },
  {
   "cell_type": "markdown",
   "id": "0311d2db",
   "metadata": {},
   "source": [
    "Q4. You are given a large integer represented as an integer array digits, where each digits[i] is the ith digit of the integer. The digits are ordered from most significant to least significant in left-to-right order. The large integer does not contain any leading 0's.\n",
    "Increment the large integer by one and return the resulting array of digits.\n"
   ]
  },
  {
   "cell_type": "markdown",
   "id": "56633572",
   "metadata": {},
   "source": [
    "Algorithm: \n",
    "    1. Initialize a variable carry to 1, representing initial carry value\n",
    "    2. Itirate over the digits in reverse order, starting from the least significant digit.\n",
    "       a) add the carry to the current digit\n",
    "        b) update the carry by dividing the sum by 10.\n",
    "        c) update the current digit to the remainder of the sum divided by 10.\n",
    "    3. after the loop, if there is still a non-zero carry, insert it at the beginning of the array.\n",
    "    4. return the updated array of digits.\n",
    "Time Complexity: O(n)"
   ]
  },
  {
   "cell_type": "code",
   "execution_count": 6,
   "id": "bbbe6612",
   "metadata": {},
   "outputs": [],
   "source": [
    "def plusOne(digits):\n",
    "    n=len(digits)\n",
    "    carry=1\n",
    "    for i in range(n-1,-1,-1):\n",
    "        digits[i]+=carry\n",
    "        carry=digits[i]//10\n",
    "        digits[i]%=10\n",
    "    if carry:\n",
    "        digits.insert(0,carry)\n",
    "    return digits"
   ]
  },
  {
   "cell_type": "code",
   "execution_count": 7,
   "id": "239b48b6",
   "metadata": {},
   "outputs": [
    {
     "name": "stdout",
     "output_type": "stream",
     "text": [
      "[1, 2, 4]\n"
     ]
    }
   ],
   "source": [
    "digits=[1,2,3]\n",
    "result=plusOne(digits)\n",
    "print(result)"
   ]
  },
  {
   "cell_type": "markdown",
   "id": "8ac01f24",
   "metadata": {},
   "source": [
    "Q5. You are given two integer arrays nums1 and nums2, sorted in non-decreasing order, and two integers m and n, representing the number of elements in nums1 and nums2 respectively.\n",
    "Merge nums1 and nums2 into a single array sorted in non-decreasing order.\n",
    "The final sorted array should not be returned by the function, but instead be stored inside the array nums1. To accommodate this, nums1 has a length of m + n, where the first m elements denote the elements that should be merged, and the last n elements are set to 0 and should be ignored. nums2 has a length of n.\n"
   ]
  },
  {
   "cell_type": "markdown",
   "id": "5b586b43",
   "metadata": {},
   "source": [
    "Algorithm:\n",
    "    1.initialize 3 pointers p1- for num1, p2- for num2, p- for merged array.\n",
    "      set p1- to m-1(index of the last element in num1)\n",
    "      set p1- to n-1(index of the last element in num2)\n",
    "      set p- to m+n-1(index of the last element in the merged array)\n",
    "    2. compare the elements num1[p1] and num2[p2] and place the largest element at nums1[p]. Decrement the corresponding pointer p by 1.\n",
    "    3. repeat setp 2 until either p1 or p2 becoms less than 0\n",
    "    4. if there are remaining elements in nums2 after the above comparison, copy them to the beginning of the nums1,upto the index\n",
    "    of p2+1\n",
    "    \n",
    "    Time Complexity: O(m+n)"
   ]
  },
  {
   "cell_type": "code",
   "execution_count": 8,
   "id": "dc549258",
   "metadata": {},
   "outputs": [],
   "source": [
    "def merge(nums1,m,nums2,n):\n",
    "     # initialize the pointer for nums1,nums2 and merged array\n",
    "    p1=m-1\n",
    "    p2=n-1\n",
    "    p=m+n-1\n",
    "    \n",
    "    #Merge elements from the end of the arrays\n",
    "    while p1>=0 and p2>=0:\n",
    "        if nums1[p1]>nums2[p2]:\n",
    "            nums1[p]=nums1[p1]\n",
    "            p1-=1\n",
    "        else:\n",
    "            nums1[p]=nums2[p2]\n",
    "            p2-=1\n",
    "        p-=1\n",
    "        \n",
    "        #if there are remaining elements in nums2, copy them to nums1\n",
    "        \n",
    "    nums1[:p2+1]=nums2[:p2+1]"
   ]
  },
  {
   "cell_type": "code",
   "execution_count": 9,
   "id": "d35b36b3",
   "metadata": {},
   "outputs": [
    {
     "name": "stdout",
     "output_type": "stream",
     "text": [
      "[1, 2, 2, 3, 5, 6]\n"
     ]
    }
   ],
   "source": [
    "nums1=[1,2,3,0,0,0]\n",
    "m=3\n",
    "nums2=[2,5,6]\n",
    "n=3\n",
    "merge(nums1,m,nums2,n)\n",
    "print(nums1)"
   ]
  },
  {
   "cell_type": "markdown",
   "id": "3fed2c31",
   "metadata": {},
   "source": [
    "Q6. Given an integer array nums, return true if any value appears at least twice in the array, and return false if every element is distinct.\n"
   ]
  },
  {
   "cell_type": "markdown",
   "id": "106cb406",
   "metadata": {},
   "source": [
    "Algorithm:\n",
    "    1. Initialize an empty hash set called seen to store the unique elements\n",
    "    2. iterate through the elements in the array nums\n",
    "    3. for each element in num, check if it is already present in the seen set\n",
    "       a) if it is return True, as we have found duplicate element\n",
    "       b) if it is not, add the elements to the seen set.\n",
    "    4. if the loop completes without finding any duplicate, return False\n",
    "Time Complexity: O(n)- since it iterate through the array once\n",
    "    "
   ]
  },
  {
   "cell_type": "code",
   "execution_count": 10,
   "id": "3af495b5",
   "metadata": {},
   "outputs": [],
   "source": [
    "def containsDuplicate(nums):\n",
    "    seen=set()\n",
    "    for num in nums:\n",
    "        if num in seen:\n",
    "            return True\n",
    "        seen.add(num)\n",
    "    return False"
   ]
  },
  {
   "cell_type": "code",
   "execution_count": 11,
   "id": "2871df85",
   "metadata": {},
   "outputs": [
    {
     "data": {
      "text/plain": [
       "True"
      ]
     },
     "execution_count": 11,
     "metadata": {},
     "output_type": "execute_result"
    }
   ],
   "source": [
    "containsDuplicate([1,2,3,1])"
   ]
  },
  {
   "cell_type": "code",
   "execution_count": 12,
   "id": "13ba7d4f",
   "metadata": {},
   "outputs": [
    {
     "data": {
      "text/plain": [
       "False"
      ]
     },
     "execution_count": 12,
     "metadata": {},
     "output_type": "execute_result"
    }
   ],
   "source": [
    "containsDuplicate([1,2,3,4])"
   ]
  },
  {
   "cell_type": "markdown",
   "id": "17d35c54",
   "metadata": {},
   "source": [
    "Q7. Given an integer array nums, move all 0's to the end of it while maintaining the relative order of the nonzero elements."
   ]
  },
  {
   "cell_type": "markdown",
   "id": "13a5687b",
   "metadata": {},
   "source": [
    "Algorithm: \n",
    "    1. initialize a pointer left to keep track of the index where the next non-zero element should be replace\n",
    "    2. iterate through array nums\n",
    "    3. if the current element is non zero, place it at the left index and increment left by 1.\n",
    "    4. after loop, all non-zero elements have been moved to left side of the array, and the left pointer points to the index\n",
    "    where the next zero element should be replace.\n",
    "    5. iterate from left to the end of the array and set all elements to zero.\n",
    "    \n",
    "    Time complexity: O(n)"
   ]
  },
  {
   "cell_type": "code",
   "execution_count": 13,
   "id": "755f9068",
   "metadata": {},
   "outputs": [],
   "source": [
    "def moveZeros(nums):\n",
    "    left=0 #pointer for non-zero elements\n",
    "    \n",
    "    #move non-zero elements to the left of the array\n",
    "    \n",
    "    for i in range(len(nums)):\n",
    "        if nums[i]!=0:\n",
    "            nums[left]=nums[i]\n",
    "            left+=1\n",
    "    #fill the remaining elements with zeros\n",
    "    \n",
    "    for i in range(left,len(nums)):\n",
    "        nums[i]=0\n",
    "        "
   ]
  },
  {
   "cell_type": "code",
   "execution_count": 14,
   "id": "ce9f70f7",
   "metadata": {},
   "outputs": [
    {
     "name": "stdout",
     "output_type": "stream",
     "text": [
      "[1, 3, 12, 0, 0, 0]\n"
     ]
    }
   ],
   "source": [
    "nums=[0,1,0,3,12,0]\n",
    "moveZeros(nums)\n",
    "print(nums)"
   ]
  },
  {
   "cell_type": "markdown",
   "id": "ea33117f",
   "metadata": {},
   "source": [
    "Q8. You have a set of integers s, which originally contains all the numbers from 1 to n. Unfortunately, due to some error, one of the numbers in s got duplicated to another number in the set, which results in repetition of one number and loss of another number.\n",
    "You are given an integer array nums representing the data status of this set after the error.\n",
    "Find the number that occurs twice and the number that is missing and return them in the form of an array."
   ]
  },
  {
   "cell_type": "markdown",
   "id": "339450e8",
   "metadata": {},
   "source": [
    "Algorithm:\n",
    "    1. Calculate the XOR of all elements in nums and numbers from 1 to n. This will give us the XOR of the missing number and the duplicate number.\n",
    "    2. Find the rightmost set bit in the XOR result.\n",
    "    3. Separate the numbers in nums into two groups based on whether their corresponding bit at the rightmost set bit position is set or not.\n",
    "    4. Separate the numbers from 1 to n into two groups based on the same criteria.\n",
    "\n",
    "    5. XOR the numbers in each group separately to find the missing number and the duplicate number.\n",
    "\n",
    "    6.Check if the missing number or the duplicate number is present in nums.\n",
    "\n",
    "    7.Return the result as an array [duplicate_num, missing_num].\n",
    "Time Complexity: O(n)\n"
   ]
  },
  {
   "cell_type": "code",
   "execution_count": 15,
   "id": "0546380f",
   "metadata": {},
   "outputs": [],
   "source": [
    "def findErrorNums(nums):\n",
    "    xor = 0\n",
    "    n = len(nums)\n",
    "\n",
    "    # XOR all elements in nums and numbers from 1 to n\n",
    "    for i in range(1, n + 1):\n",
    "        xor ^= i\n",
    "    for num in nums:\n",
    "        xor ^= num\n",
    "\n",
    "    # Find the rightmost set bit in the XOR result\n",
    "    rightmost_set_bit = xor & (-xor)\n",
    "\n",
    "    missing_num = 0\n",
    "    duplicate_num = 0\n",
    "\n",
    "    # Separate numbers into two groups based on the rightmost set bit\n",
    "    for i in range(n):\n",
    "        if nums[i] & rightmost_set_bit:\n",
    "            missing_num ^= nums[i]\n",
    "        else:\n",
    "            duplicate_num ^= nums[i]\n",
    "\n",
    "    # Separate numbers from 1 to n into two groups based on the rightmost set bit\n",
    "    for i in range(1, n + 1):\n",
    "        if i & rightmost_set_bit:\n",
    "            missing_num ^= i\n",
    "        else:\n",
    "            duplicate_num ^= i\n",
    "\n",
    "    # Check if the missing_num or duplicate_num is in nums\n",
    "    for num in nums:\n",
    "        if num == missing_num:\n",
    "            return [missing_num, duplicate_num]\n",
    "        if num == duplicate_num:\n",
    "            return [duplicate_num, missing_num]\n",
    "\n",
    "    return []  # Return an empty array if no missing or duplicate number is found\n"
   ]
  },
  {
   "cell_type": "code",
   "execution_count": 16,
   "id": "40b902bb",
   "metadata": {},
   "outputs": [
    {
     "name": "stdout",
     "output_type": "stream",
     "text": [
      "[2, 3]\n"
     ]
    }
   ],
   "source": [
    "nums = [1, 2, 2, 4]\n",
    "result = findErrorNums(nums)\n",
    "print(result)  # Output: [2, 3]\n"
   ]
  },
  {
   "cell_type": "code",
   "execution_count": null,
   "id": "7de6844b",
   "metadata": {},
   "outputs": [],
   "source": []
  }
 ],
 "metadata": {
  "kernelspec": {
   "display_name": "Python 3 (ipykernel)",
   "language": "python",
   "name": "python3"
  },
  "language_info": {
   "codemirror_mode": {
    "name": "ipython",
    "version": 3
   },
   "file_extension": ".py",
   "mimetype": "text/x-python",
   "name": "python",
   "nbconvert_exporter": "python",
   "pygments_lexer": "ipython3",
   "version": "3.10.5"
  }
 },
 "nbformat": 4,
 "nbformat_minor": 5
}
