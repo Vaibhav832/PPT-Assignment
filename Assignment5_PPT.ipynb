{
 "cells": [
  {
   "cell_type": "markdown",
   "id": "03f01341",
   "metadata": {},
   "source": [
    "Q1. Converting a 1D array into 2D array"
   ]
  },
  {
   "cell_type": "code",
   "execution_count": 8,
   "id": "381ef7a6",
   "metadata": {},
   "outputs": [],
   "source": [
    "def covert_to_2D_Array(original,m,n):\n",
    "    if m*n!=len(original):\n",
    "        return []\n",
    "    result=[]\n",
    "    \n",
    "    for i in range(m):\n",
    "        row=original[i*n:(i+1)*n]\n",
    "        result.append(row)\n",
    "    return result\n"
   ]
  },
  {
   "cell_type": "code",
   "execution_count": 9,
   "id": "93a3c9d5",
   "metadata": {},
   "outputs": [
    {
     "data": {
      "text/plain": [
       "[]"
      ]
     },
     "execution_count": 9,
     "metadata": {},
     "output_type": "execute_result"
    }
   ],
   "source": [
    "covert_to_2D_Array([1,2,3,4],2,3)"
   ]
  },
  {
   "cell_type": "code",
   "execution_count": 10,
   "id": "98567805",
   "metadata": {},
   "outputs": [
    {
     "data": {
      "text/plain": [
       "[[1, 2], [3, 4]]"
      ]
     },
     "execution_count": 10,
     "metadata": {},
     "output_type": "execute_result"
    }
   ],
   "source": [
    "covert_to_2D_Array([1,2,3,4],2,2)"
   ]
  },
  {
   "cell_type": "code",
   "execution_count": 13,
   "id": "b5fb0ed5",
   "metadata": {},
   "outputs": [
    {
     "data": {
      "text/plain": [
       "[[1, 2, 3, 4, 5, 6], [7, 8, 9, 10, 11, 12]]"
      ]
     },
     "execution_count": 13,
     "metadata": {},
     "output_type": "execute_result"
    }
   ],
   "source": [
    "covert_to_2D_Array([1,2,3,4,5,6,7,8,9,10,11,12],2,6)"
   ]
  },
  {
   "cell_type": "markdown",
   "id": "873c2b02",
   "metadata": {},
   "source": [
    "Algorithm:\n",
    "    1. check if the length of the original array is equal to m*n (rows*cols) or not, if not return empty 2D array \n",
    "       as it is impossible to create varid 2D array\n",
    "    2. initialize an empty 2D array result to store the constructied array\n",
    "    \n",
    "    3. iterate i from 0 to m-1\n",
    "       extract row from original by slicing the index i*n :(i+1)*n-1\n",
    "       append extracted row to result\n",
    "    4. return the result\n",
    "time complexity: O(m*n)- we need to iterate over each and every element in the array size m*n\n",
    "space complexity: O(m*n)- we need to have m*n rows and cols space to store the resultant 2D array"
   ]
  },
  {
   "cell_type": "markdown",
   "id": "b693df29",
   "metadata": {},
   "source": [
    "Q2. Count Complete Rows"
   ]
  },
  {
   "cell_type": "code",
   "execution_count": 19,
   "id": "f7f06a91",
   "metadata": {},
   "outputs": [],
   "source": [
    "def countCompleteRows(n):\n",
    "    level=0\n",
    "    count=0\n",
    "    while n>=level:\n",
    "        count+=1\n",
    "        level+=1\n",
    "        n-=level\n",
    "    return count-1"
   ]
  },
  {
   "cell_type": "code",
   "execution_count": 20,
   "id": "163a4df1",
   "metadata": {},
   "outputs": [
    {
     "data": {
      "text/plain": [
       "2"
      ]
     },
     "execution_count": 20,
     "metadata": {},
     "output_type": "execute_result"
    }
   ],
   "source": [
    "countCompleteRows(5)"
   ]
  },
  {
   "cell_type": "markdown",
   "id": "e9dac65b",
   "metadata": {},
   "source": [
    "Algorithm:\n",
    "    1. initialize level and count to zero\n",
    "    2. while n greater than or equal to level, do the following\n",
    "       increase level by 1\n",
    "       increase count by 1\n",
    "       subtract n from level \n",
    "    3. return count-1 when loop is exited with insuffient number of elements for value n\n",
    "Time complexity: O(sqrt(n))\n",
    "Space complexity: O(1)"
   ]
  },
  {
   "cell_type": "markdown",
   "id": "1ccc2858",
   "metadata": {},
   "source": [
    "Q3:-Given an integer array nums sorted in non-decreasing order, return an array of the squares of each number sorted in non-decreasing order."
   ]
  },
  {
   "cell_type": "code",
   "execution_count": 33,
   "id": "4945ab71",
   "metadata": {},
   "outputs": [],
   "source": [
    "def sortedSquares(nums):\n",
    "    result=[num**2 for num in nums]\n",
    "    result.sort()\n",
    "    return result"
   ]
  },
  {
   "cell_type": "code",
   "execution_count": 32,
   "id": "49e8ffb1",
   "metadata": {},
   "outputs": [
    {
     "data": {
      "text/plain": [
       "[0, 1, 9, 16, 100]"
      ]
     },
     "execution_count": 32,
     "metadata": {},
     "output_type": "execute_result"
    }
   ],
   "source": [
    "sortedSquares([-4,-1,0,3,10])"
   ]
  },
  {
   "cell_type": "markdown",
   "id": "11219c46",
   "metadata": {},
   "source": [
    "Q4: Find Disappeared Number\n",
    "   "
   ]
  },
  {
   "cell_type": "code",
   "execution_count": 34,
   "id": "9e15ffa0",
   "metadata": {},
   "outputs": [],
   "source": [
    " def findDisappearedNumbers(nums1, nums2):\n",
    "    set1 = set(nums1)\n",
    "    set2 = set(nums2)\n",
    "    \n",
    "    answer = [list(set1 - set2), list(set2 - set1)]\n",
    "    return answer\n"
   ]
  },
  {
   "cell_type": "code",
   "execution_count": 35,
   "id": "eb81ab78",
   "metadata": {},
   "outputs": [
    {
     "data": {
      "text/plain": [
       "[[1, 3], [4, 6]]"
      ]
     },
     "execution_count": 35,
     "metadata": {},
     "output_type": "execute_result"
    }
   ],
   "source": [
    "findDisappearedNumbers([1,2,3],[2,4,6])"
   ]
  },
  {
   "cell_type": "markdown",
   "id": "b020e843",
   "metadata": {},
   "source": [
    "Algorithm:\n",
    "    1.create two sets set1 and set2 from nums1,num2 respectively. A set contains only distinct elements, so any duplicate\n",
    "    values will be automatically removed.\n",
    "    2.use the difference operation -, to find the distinct elements that are present in set1 but not in set2. convert the\n",
    "    result back to the list using list() function\n",
    "    3.similarly find the distinct elements present in set2 but not in set1 and covert the result to a list\n",
    "    4. return the list answer\n",
    "\n"
   ]
  },
  {
   "cell_type": "code",
   "execution_count": 37,
   "id": "65038f9a",
   "metadata": {},
   "outputs": [],
   "source": [
    "# Q5- Find the distance value\n",
    "\n",
    "def findDistanceValue(arr1,arr2,d):\n",
    "    distance=0\n",
    "    \n",
    "    for num1 in arr1:\n",
    "        is_distance_valid=True\n",
    "        \n",
    "        for num2 in arr2:\n",
    "            if abs(num2-num1)<=d:\n",
    "                is_distance_valid=False\n",
    "                break\n",
    "        if is_distance_valid:\n",
    "            distance+=1\n",
    "    return distance"
   ]
  },
  {
   "cell_type": "code",
   "execution_count": 38,
   "id": "dd2fa701",
   "metadata": {},
   "outputs": [
    {
     "data": {
      "text/plain": [
       "2"
      ]
     },
     "execution_count": 38,
     "metadata": {},
     "output_type": "execute_result"
    }
   ],
   "source": [
    "findDistanceValue([4,5,8],[10,9,1,8],2)"
   ]
  },
  {
   "cell_type": "markdown",
   "id": "25e9b21e",
   "metadata": {},
   "source": [
    "Algorithm:\n",
    "    1. Initialize the distance value to 0, which will strore the count of elements in arry  that satisfy the condition\n",
    "\n",
    "    2. iterate through arr1 \n",
    "    3. set the flag is_distance_valid to True indicating that the current element num1 satisfies the condition \n",
    "    untill proven otherwise\n",
    "    4.iterate through each element in arr2\n",
    "    5. check the absolute difference num1 and num2 is less than or equal to d. if it is set is_distance_valid to False and \n",
    "    break out the loop\n",
    "    6. if inner loop completes without setting is_distance_valid to false, it means no element in arr2 satisfy the \n",
    "    condition for the current num1. increment the distance to 1\n",
    "    7. repeat 2-6 for each element in arr1\n",
    "    8. return the final distance\n"
   ]
  },
  {
   "cell_type": "code",
   "execution_count": 39,
   "id": "89c43eac",
   "metadata": {},
   "outputs": [],
   "source": [
    "# Q6- Find duplicates\n",
    "def findDuplicates(nums):\n",
    "    seen = set()\n",
    "    result = []\n",
    "    \n",
    "    for num in nums:\n",
    "        if num in seen:\n",
    "            result.append(num)\n",
    "        else:\n",
    "            seen.add(num)\n",
    "    \n",
    "    return result\n",
    "\n"
   ]
  },
  {
   "cell_type": "code",
   "execution_count": 40,
   "id": "41c385d9",
   "metadata": {},
   "outputs": [
    {
     "data": {
      "text/plain": [
       "[2, 3]"
      ]
     },
     "execution_count": 40,
     "metadata": {},
     "output_type": "execute_result"
    }
   ],
   "source": [
    "findDuplicates([4,3,2,7,8,2,3,1])"
   ]
  },
  {
   "cell_type": "markdown",
   "id": "3b9797dd",
   "metadata": {},
   "source": [
    "Algorithm:\n",
    "    1. initialize a set seen to store integers that have been seen before\n",
    "    2. initialize an empty list result to store the integers that appear twice\n",
    "    3. interate through element num in nums\n",
    "        if num is already in the seen set, it means we have encountered it before. Append\n",
    "        numer to result list\n",
    "        otherwise add number to see list\n",
    "    4. return the result list\n",
    "time complexity: O(n)\n",
    "auxiliary space complexity: O(1)"
   ]
  },
  {
   "cell_type": "code",
   "execution_count": 43,
   "id": "a8878dd8",
   "metadata": {},
   "outputs": [],
   "source": [
    "#Q7 finding minimum number using binary search\n",
    "\n",
    "def findMin(nums):\n",
    "    left, right = 0, len(nums) - 1\n",
    "\n",
    "    while left < right:\n",
    "        mid = left + (right - left) // 2\n",
    "        \n",
    "        if nums[mid] > nums[right]:\n",
    "            left = mid + 1\n",
    "        else:\n",
    "            right = mid\n",
    "\n",
    "    return nums[left]\n"
   ]
  },
  {
   "cell_type": "code",
   "execution_count": 45,
   "id": "b259e14c",
   "metadata": {},
   "outputs": [
    {
     "data": {
      "text/plain": [
       "1"
      ]
     },
     "execution_count": 45,
     "metadata": {},
     "output_type": "execute_result"
    }
   ],
   "source": [
    "findMin([3,4,5,1,2])"
   ]
  },
  {
   "cell_type": "markdown",
   "id": "08668640",
   "metadata": {},
   "source": [
    "Algorithm:\n",
    "    1.initialize two pointer left and right to 0 and n-1 respectively\n",
    "    2. while left less than right\n",
    "       calculate the middle index as mid=left+(right-left)//2\n",
    "        check if nums[mid]> nums[right] if true it means the minimum element lies lies to the right of the mid.\n",
    "        Set left=mid+1\n",
    "        otherwise if nums[mid]<nums[right] it means the minimum element lies to the left of mid or equal to nums[mid]\n",
    "        Set right=mid\n",
    "    3. after the loop left and right will point to the minimum element of the array\n",
    "    4. return nums[left] or nums[right]\n",
    "\n",
    "time complexity: O(log n)- since it halves the search space in each iteration of the binary search.\n",
    "space complexity: O(1)- uses constant extra space"
   ]
  },
  {
   "cell_type": "code",
   "execution_count": null,
   "id": "4cd28e43",
   "metadata": {},
   "outputs": [],
   "source": [
    "Q8- Unable to solve"
   ]
  }
 ],
 "metadata": {
  "kernelspec": {
   "display_name": "Python 3 (ipykernel)",
   "language": "python",
   "name": "python3"
  },
  "language_info": {
   "codemirror_mode": {
    "name": "ipython",
    "version": 3
   },
   "file_extension": ".py",
   "mimetype": "text/x-python",
   "name": "python",
   "nbconvert_exporter": "python",
   "pygments_lexer": "ipython3",
   "version": "3.9.13"
  }
 },
 "nbformat": 4,
 "nbformat_minor": 5
}
